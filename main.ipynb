{
 "cells": [
  {
   "cell_type": "markdown",
   "metadata": {
    "colab_type": "text",
    "id": "F1sa_QJ55-fu"
   },
   "source": [
    "# **Project 4 - Q Learning**\n",
    "\n",
    "For this project, you will be tasked with both implementing and explaining key components of the Q-learning algorithm.\n",
    "\n",
    "All the code deliverables has to be provided within this notebook.\n",
    "\n",
    "# 1 - Packages\n",
    "Let's first import all the packages that you will need during this assignment.\n",
    "\n",
    "* \n",
    "[numpy](https://numpy.org/) - is the main package for scientific computing with Python\n",
    "*\n",
    "[matplotlib](https://matplotlib.org/) - is a plotting library\n",
    "*\n",
    "[gym](https://gym.openai.com/docs/) - Gym is a toolkit for developing and comparing reinforcement learning algorithms.\n",
    "*\n",
    "[gym.spaces](http://gym.openai.com/docs/) - Every environment comes with an action_space and an observation_space. These attributes are of type Space, and they describe the format of valid actions and observations.\n",
    "*\n",
    "[time](https://docs.python.org/3/library/time.html?highlight=time#module-time) - will be used to track how much time each computation takes\n",
    "*\n",
    "[copy](https://docs.python.org/3/library/copy.html) - A copy is sometimes needed so one can change one copy without changing the other.\n",
    "*\n",
    "[Threading](https://docs.python.org/3/library/threading.html) - This module constructs higher-level threading interfaces on top of the lower level thread module.\n",
    "*\n",
    "[Collections](https://docs.python.org/2/library/collections.html) - This module implements specialized container datatypes providing alternatives to Python’s general purpose built-in containers, dict, list, set, and tuple.\n"
   ]
  },
  {
   "cell_type": "code",
   "execution_count": 1,
   "metadata": {
    "colab": {},
    "colab_type": "code",
    "id": "M_PLd07ie8k1"
   },
   "outputs": [],
   "source": [
    "#######################################################################\n",
    
    "#######################################################################\n",
    "import numpy as np\n",
    "import matplotlib.pyplot as plt\n",
    "import gym\n",
    "import gym.spaces\n",
    "import time\n",
    "import copy\n",
    "import threading\n",
    "import time\n",
    "import collections"
   ]
  },
  {
   "cell_type": "markdown",
   "metadata": {
    "colab_type": "text",
    "id": "6AsLthEre8kw"
   },
   "source": [
    "`## Basic Environment\n",
    "Here we define our grid-world environment. No need to make any changes."
   ]
  },
  {
   "cell_type": "code",
   "execution_count": 2,
   "metadata": {
    "colab": {},
    "colab_type": "code",
    "id": "1KZhxOunpbNp"
   },
   "outputs": [],
   "source": [
    "class GridEnvironment(gym.Env):\n",
    "    metadata = { 'render.modes': ['human'] }\n",
    "    \n",
    "    def __init__(self, normalize=False, size=4):\n",
    "        self.observation_space = gym.spaces.Box(0, size, (size,))\n",
    "        self.action_space = gym.spaces.Discrete(4)\n",
    "        self.max_timesteps = size*2 + 1\n",
    "        self.normalize = normalize\n",
    "        self.size = size\n",
    "\n",
    "        # Generate State Transition Table\n",
    "        self.transition_matrix = []\n",
    "        for x in range(size + 1):\n",
    "            state_x = []\n",
    "            for y in range(size + 1):\n",
    "                state_y = []\n",
    "                for a in range(4):\n",
    "                    one_hot = np.zeros(4)\n",
    "                    one_hot[a] = 1\n",
    "                    state_y.append(one_hot)\n",
    "                state_x.append(state_y)\n",
    "            self.transition_matrix.append(state_x)\n",
    "        \n",
    "    def transition_func(self, x, y, action, return_probs=False):\n",
    "        probs = self.transition_matrix[x][y][action]\n",
    "        if return_probs:\n",
    "            return probs\n",
    "        else:\n",
    "            return np.random.choice(len(probs), p=probs)\n",
    "\n",
    "    def _get_distance(self, x, y):\n",
    "        return abs(x[0] - y[0]) + abs(x[1] - y[1])\n",
    "        \n",
    "    def reset(self):\n",
    "        self.timestep = 0\n",
    "        self.agent_pos = [0, 0]\n",
    "        self.goal_pos = [self.size, self.size]\n",
    "        self.state = np.zeros((self.size + 1, self.size + 1))\n",
    "        self.state[tuple(self.agent_pos)] = 1\n",
    "        self.state[tuple(self.goal_pos)] = 0.5\n",
    "        self.prev_distance = self._get_distance(self.agent_pos, self.goal_pos)\n",
    "        return np.array(self.agent_pos)/1.\n",
    "    \n",
    "    def step(self, action):\n",
    "        action_taken = self.transition_func(self.agent_pos[0], self.agent_pos[1], action)\n",
    "        self.state = np.random.choice(self.observation_space.shape[0])\n",
    "        if action_taken == 0:\n",
    "            self.agent_pos[0] += 1\n",
    "        if action_taken == 1:\n",
    "            self.agent_pos[0] -= 1\n",
    "        if action_taken == 2:\n",
    "            self.agent_pos[1] += 1\n",
    "        if action_taken == 3:\n",
    "            self.agent_pos[1] -= 1\n",
    "          \n",
    "        self.agent_pos = np.clip(self.agent_pos, 0, self.size)\n",
    "        self.state = np.zeros((self.size + 1, self.size + 1))\n",
    "        self.state[tuple(self.agent_pos)] = 1\n",
    "        self.state[tuple(self.goal_pos)] = 0.5\n",
    "        \n",
    "        current_distance = self._get_distance(self.agent_pos, self.goal_pos)\n",
    "        if current_distance < self.prev_distance:\n",
    "            reward = 1\n",
    "        elif current_distance > self.prev_distance:\n",
    "            reward = -1\n",
    "        else:\n",
    "            reward = -1\n",
    "        self.prev_distance = current_distance\n",
    "        \n",
    "        self.timestep += 1\n",
    "        if self.timestep >= self.max_timesteps or current_distance == 0:\n",
    "            done = True\n",
    "        else:\n",
    "            done = False\n",
    "        info = {}\n",
    "        \n",
    "        obs = self.agent_pos\n",
    "        if self.normalize:\n",
    "            obs = obs/self.size\n",
    "        return obs, reward, done, info\n",
    "        \n",
    "    def render(self, mode='human'):\n",
    "        plt.imshow(self.state)"
   ]
  },
  {
   "cell_type": "code",
   "execution_count": 3,
   "metadata": {
    "colab": {
     "base_uri": "https://localhost:8080/",
     "height": 265
    },
    "colab_type": "code",
    "id": "hy2YHvlNe8lW",
    "outputId": "0915a1ec-cc2e-4a59-bf6e-8b0597cb106c"
   },
   "outputs": [
    {
     "data": {
      "image/png": "[encoded data removed]",
      "text/plain": [
       "<Figure size 432x288 with 1 Axes>"
      ]
     },
     "metadata": {
      "needs_background": "light"
     },
     "output_type": "display_data"
    }
   ],
   "source": [
    "env = GridEnvironment()\n",
    "obs = env.reset()\n",
    "env.render()"
   ]
  },
  {
   "cell_type": "markdown",
   "metadata": {
    "colab_type": "text",
    "id": "Bc3VOQuJF1el"
   },
   "source": [
    "## Random Agent\n",
    "This runs the environment with a random agent that just takes random actions. Neither does he learn, nor remember anything. Try to run it!"
   ]
  },
  {
   "cell_type": "code",
   "execution_count": 4,
   "metadata": {
    "colab": {},
    "colab_type": "code",
    "id": "z9XqqwQtFr8k"
   },
   "outputs": [],
   "source": [
    "class RandomAgent:\n",
    "    def __init__(self, env):\n",
    "        self.env = env\n",
    "        self.observation_space = env.observation_space\n",
    "        self.action_space = env.action_space\n",
    "\n",
    "    def policy(self, observation):\n",
    "        return np.random.choice(self.action_space.n)\n",
    "        \n",
    "    def step(self, observation, verbose=False):\n",
    "        return self.policy(observation)"
   ]
  },
  {
   "cell_type": "code",
   "execution_count": 5,
   "metadata": {
    "colab": {
     "base_uri": "https://localhost:8080/",
     "height": 1000
    },
    "colab_type": "code",
    "id": "0S5tBBqfF-s3",
    "outputId": "1adb15a1-6417-44bd-ef70-597455184cf1"
   },
   "outputs": [
    {
     "data": {
      "image/png": "[encoded data removed]",
      "text/plain": [
       "<Figure size 432x288 with 1 Axes>"
      ]
     },
     "metadata": {
      "needs_background": "light"
     },
     "output_type": "display_data"
    },
    {
     "data": {
      "image/png": "[encoded data removed]",
      "text/plain": [
       "<Figure size 432x288 with 1 Axes>"
      ]
     },
     "metadata": {
      "needs_background": "light"
     },
     "output_type": "display_data"
    },
    {
     "data": {
      "image/png": "[encoded data removed]",
      "text/plain": [
       "<Figure size 432x288 with 1 Axes>"
      ]
     },
     "metadata": {
      "needs_background": "light"
     },
     "output_type": "display_data"
    },
    {
     "data": {
      "image/png": "[encoded data removed]",
      "text/plain": [
       "<Figure size 432x288 with 1 Axes>"
      ]
     },
     "metadata": {
      "needs_background": "light"
     },
     "output_type": "display_data"
    },
    {
     "data": {
      "image/png": "[encoded data removed]",
      "text/plain": [
       "<Figure size 432x288 with 1 Axes>"
      ]
     },
     "metadata": {
      "needs_background": "light"
     },
     "output_type": "display_data"
    },
    {
     "data": {
      "image/png": "[encoded data removed]",
      "text/plain": [
       "<Figure size 432x288 with 1 Axes>"
      ]
     },
     "metadata": {
      "needs_background": "light"
     },
     "output_type": "display_data"
    },
    {
     "data": {
      "image/png": "[encoded data removed]",
      "text/plain": [
       "<Figure size 432x288 with 1 Axes>"
      ]
     },
     "metadata": {
      "needs_background": "light"
     },
     "output_type": "display_data"
    },
    {
     "data": {
      "image/png": "[encoded data removed]",
      "text/plain": [
       "<Figure size 432x288 with 1 Axes>"
      ]
     },
     "metadata": {
      "needs_background": "light"
     },
     "output_type": "display_data"
    },
    {
     "data": {
      "image/png": "[encoded data removed]",
      "text/plain": [
       "<Figure size 432x288 with 1 Axes>"
      ]
     },
     "metadata": {
      "needs_background": "light"
     },
     "output_type": "display_data"
    },
    {
     "data": {
      "image/png": "[encoded data removed]",
      "text/plain": [
       "<Figure size 432x288 with 1 Axes>"
      ]
     },
     "metadata": {
      "needs_background": "light"
     },
     "output_type": "display_data"
    }
   ],
   "source": [
    "env = GridEnvironment(normalize=True)\n",
    "agent = RandomAgent(env)\n",
    "\n",
    "obs = env.reset()\n",
    "done = False\n",
    "agent.epsilon = 0\n",
    "env.render()\n",
    "plt.show()\n",
    "\n",
    "while not done:\n",
    "    action = agent.step(obs, verbose=True)\n",
    "    obs, reward, done, info = env.step(action)\n",
    "    env.render()\n",
    "    plt.show()"
   ]
  },
  {
   "cell_type": "markdown",
   "metadata": {
    "colab_type": "text",
    "id": "JCKzZh7u0zFJ"
   },
   "source": [
    "## Heuristic Agent\n",
    "This runs the environment with a heuristic agent. No need to make any changes. Try to run it!"
   ]
  },
  {
   "cell_type": "code",
   "execution_count": 6,
   "metadata": {
    "colab": {},
    "colab_type": "code",
    "id": "aVGLhrTG0yQp"
   },
   "outputs": [],
   "source": [
    "class HeuristicAgent:\n",
    "    def __init__(self, env):\n",
    "        self.env = env\n",
    "        self.observation_space = env.observation_space\n",
    "        self.action_space = env.action_space\n",
    "\n",
    "    def policy(self, observation):\n",
    "        # 0 - down\n",
    "        # 1 - up\n",
    "        # 2 - right\n",
    "        # 3 - left\n",
    "        if (observation[0] < 1.):\n",
    "            return 0\n",
    "        if (observation[1] < 1.):\n",
    "            return 2\n",
    "        return 0\n",
    "        \n",
    "    def step(self, observation, verbose=False):\n",
    "        if verbose:\n",
    "            print(observation)\n",
    "        return self.policy(observation)"
   ]
  },
  {
   "cell_type": "code",
   "execution_count": 7,
   "metadata": {
    "colab": {
     "base_uri": "https://localhost:8080/",
     "height": 1000
    },
    "colab_type": "code",
    "id": "kZGSRSzo07v-",
    "outputId": "6e70e241-8fb0-40f8-8073-5d874d9772b5"
   },
   "outputs": [
    {
     "data": {
      "image/png": "[encoded data removed]",
      "text/plain": [
       "<Figure size 432x288 with 1 Axes>"
      ]
     },
     "metadata": {
      "needs_background": "light"
     },
     "output_type": "display_data"
    },
    {
     "name": "stdout",
     "output_type": "stream",
     "text": [
      "[0. 0.]\n"
     ]
    },
    {
     "data": {
      "image/png": "[encoded data removed]",
      "text/plain": [
       "<Figure size 432x288 with 1 Axes>"
      ]
     },
     "metadata": {
      "needs_background": "light"
     },
     "output_type": "display_data"
    },
    {
     "name": "stdout",
     "output_type": "stream",
     "text": [
      "[0.25 0.  ]\n"
     ]
    },
    {
     "data": {
      "image/png": "[encoded data removed]",
      "text/plain": [
       "<Figure size 432x288 with 1 Axes>"
      ]
     },
     "metadata": {
      "needs_background": "light"
     },
     "output_type": "display_data"
    },
    {
     "name": "stdout",
     "output_type": "stream",
     "text": [
      "[0.5 0. ]\n"
     ]
    },
    {
     "data": {
      "image/png": "[encoded data removed]",
      "text/plain": [
       "<Figure size 432x288 with 1 Axes>"
      ]
     },
     "metadata": {
      "needs_background": "light"
     },
     "output_type": "display_data"
    },
    {
     "name": "stdout",
     "output_type": "stream",
     "text": [
      "[0.75 0.  ]\n"
     ]
    },
    {
     "data": {
      "image/png": "[encoded data removed]",
      "text/plain": [
       "<Figure size 432x288 with 1 Axes>"
      ]
     },
     "metadata": {
      "needs_background": "light"
     },
     "output_type": "display_data"
    },
    {
     "name": "stdout",
     "output_type": "stream",
     "text": [
      "[1. 0.]\n"
     ]
    },
    {
     "data": {
      "image/png": "[encoded data removed]",
      "text/plain": [
       "<Figure size 432x288 with 1 Axes>"
      ]
     },
     "metadata": {
      "needs_background": "light"
     },
     "output_type": "display_data"
    },
    {
     "name": "stdout",
     "output_type": "stream",
     "text": [
      "[1.   0.25]\n"
     ]
    },
    {
     "data": {
      "image/png": "[encoded data removed]",
      "text/plain": [
       "<Figure size 432x288 with 1 Axes>"
      ]
     },
     "metadata": {
      "needs_background": "light"
     },
     "output_type": "display_data"
    },
    {
     "name": "stdout",
     "output_type": "stream",
     "text": [
      "[1.  0.5]\n"
     ]
    },
    {
     "data": {
      "image/png": "[encoded data removed]",
      "text/plain": [
       "<Figure size 432x288 with 1 Axes>"
      ]
     },
     "metadata": {
      "needs_background": "light"
     },
     "output_type": "display_data"
    },
    {
     "name": "stdout",
     "output_type": "stream",
     "text": [
      "[1.   0.75]\n"
     ]
    },
    {
     "data": {
      "image/png": "[encoded data removed]",
      "text/plain": [
       "<Figure size 432x288 with 1 Axes>"
      ]
     },
     "metadata": {
      "needs_background": "light"
     },
     "output_type": "display_data"
    }
   ],
   "source": [
    "env = GridEnvironment(normalize=True)\n",
    "agent = HeuristicAgent(env)\n",
    "\n",
    "obs = env.reset()\n",
    "done = False\n",
    "agent.epsilon = 0\n",
    "env.render()\n",
    "plt.show()\n",
    "\n",
    "while not done:\n",
    "    action = agent.step(obs, verbose=True)\n",
    "    obs, reward, done, info = env.step(action)\n",
    "    env.render()\n",
    "    plt.show()"
   ]
  },
  {
   "cell_type": "markdown",
   "metadata": {
    "colab_type": "text",
    "id": "oSjsMD6Ze8ld"
   },
   "source": [
    "## Tabular Q-Learning\n",
    "This is where you need to define policy and update Q tables.\n",
    "For policy.\n",
    "\n",
    "*  \n",
    "[np.argmax](https://docs.scipy.org/doc/numpy/reference/generated/numpy.argmax.html) - Returns the indices of the maximum values along an axis.\n",
    "\n",
    "### Epsilon\n",
    "\n",
    "Our agent will randomly select its action at first by a certain percentage, called ‘exploration rate’ or ‘epsilon’. This is because at first, it is better for the agent to try all kinds of things before it starts to see the patterns. When it is not deciding the action randomly, the agent will predict the reward value based on the current state and pick the action that will give the highest reward. We want our agent to decrease the number of random action, as it goes, so we indroduce an exponential-decay epsilon, that eventually will allow our agent to explore the evironment. \\\\\n",
    "\n",
    "\n",
    "\n",
    "###  <font color='red'>Task 1: Implement policy function.</font>  <br>\n",
    "**Instructions:**\n",
    "- Our agent will randomly select its action at first by a certain percentage, called ‘exploration rate’ or ‘epsilon’. This is because at first, it is better for the agent to try all kinds of things before it starts to see the patterns. Select a random uniform number. If it's less than epsilon, return the random choice action space.\n",
    "- When it is not deciding the action randomly, the agent will predict the reward value based on the current state and pick the action that will give the highest reward. \n",
    "\\begin{align} \\notag\n",
    "\\pi\\left(s_{t}\\right)=\\underset{a \\in A}{\\operatorname{argmax}} Q_{\\theta}\\left(s_{t}, a\\right)\n",
    "\\end{align} \n",
    "- Return the policy\n",
    "- Please note, that the name for all the variables should start with <mark>self</mark>, thus </br> \n",
    "\n",
    "epsilon $\\rightarrow$ self.epsilon </br> \n",
    "action_space $\\rightarrow$ self.action_space\n",
    "\n",
    "###  <font color='red'>Task 2: Update Q-table</font>  <br>\n",
    "**Instructions:**\n",
    "            \\begin{align} \\notag\n",
    "            Q^{n e w}\\left(s_{t}, a_{t}\\right) \\leftarrow(1-\\alpha) \\cdot \\underbrace{Q\\left(s_{t}, a_{t}\\right)}_{\\text {old value }}+\\underbrace{\\alpha}_{\\text {learning rate }} \\cdot \\overbrace{(\\underbrace{r_{t}}_{\\text {reward }} + \\underbrace{\\gamma}_{\\text {discount factor }} \\underbrace{\\max _{a} Q\\left(s_{t+1}, a\\right)}_{a})}^{\\text {learned value }}\n",
    "            \\end{align} "
   ]
  },
  {
   "cell_type": "code",
   "execution_count": 8,
   "metadata": {
    "colab": {
     "base_uri": "https://localhost:8080/",
     "height": 130
    },
    "colab_type": "code",
    "id": "l88irSuqe8lf",
    "outputId": "8bafa216-450b-4c4f-e5ff-e0b40aaf4412"
   },
   "outputs": [],
   "source": [
    "class QLearningAgent:\n",
    "    def __init__(self, env, epsilon=1.0, lr=0.1, gamma=0.9):\n",
    "        self.env = env\n",
    "        self.observation_space = env.observation_space\n",
    "        self.action_space = env.action_space\n",
    "        q_table_dim = env.observation_space.shape[0] + 1\n",
    "        self.q_table = np.zeros((q_table_dim, q_table_dim, env.action_space.n))\n",
    "        self.epsilon = epsilon\n",
    "        self.lr = lr\n",
    "        self.gamma = gamma\n",
    "\n",
    "    def policy(self, observation):\n",
    "      # Code for policy (Task 1) (30 points)\n",
    "        obs=observation.astype(int)\n",
    "        random=np.random.uniform(0,1)\n",
    "        \n",
    "        if random < self.epsilon:\n",
    "            return(np.random.choice(self.action_space.n))\n",
    "        \n",
    "        return(np.argmax(self.q_table[tuple(obs)]))\n",
    "        \n",
    "    def step(self, observation):\n",
    "      return self.policy(observation)\n",
    "        \n",
    "    def update(self, state, action, reward, next_state):\n",
    "        state = state.astype(int)\n",
    "        next_state = next_state.astype(int)\n",
    "        \n",
    "        # Code for updating Q Table (Task 2) (20 points)\n",
    "        \n",
    "        old_qval=self.q_table[tuple(state)][action]\n",
    "        result=(1-self.lr)*old_qval\n",
    "        max_next=np.max(self.q_table[tuple(next_state)])\n",
    "        result+=(self.lr*(reward+self.gamma*max_next))\n",
    "        \n",
    "        self.q_table[tuple(state)][action]=result\n",
    "        \n",
    "        \n",
    "        \n",
    "    def set_epsilon(self, epsilon):\n",
    "        self.epsilon = epsilon"
   ]
  },
  {
   "cell_type": "markdown",
   "metadata": {
    "colab_type": "text",
    "id": "UNKDdzD3e8lj"
   },
   "source": [
    "### Training\n",
    "### Environment\n",
    "First, we initialize our environment.  The environment, loosely structured like [OpenAI's Gym Environments](https://gym.openai.com/), has three main methods: `reset`, `step` and `render`. You'll only need `reset` and `step` here.\n",
    "\n",
    "- When we call **reset**, we initialize the environment with a fresh episode. This allows us to effectively run through episodes (only needing to call reset at the beginning of an episode), but, more importantly, `reset()` returns the environment's initial state.\n",
    "\n",
    "- The **step** method accepts an action as a parameter (which, for this example, is an integer in [0, 3]), processes the action, and returns the new state, the reward for performing the action, and a boolean indicating if the run is over.\n",
    "\n",
    "### Agent\n",
    "When we initialize the agent, we must pass both a `environment` into QLearningAgent function.\n",
    "###  <font color='red'>Task 3: Implement the training algorithm</font>  <br>\n",
    "**Instructions:**\n",
    "- After initialization, pass the initial state to obs. Then check if it's already done. If done = False, you'll keep going. While it's not done, you'll need to update `state`, `action`,`reward` and `next_state`. You can get action by `step` the current state on agent. Use `copy` to record the current state. `step` the current action on environment to return the new state, the reward for performing the action, a boolean indicating if the run is over and some other information. Add the new reward on the total rewards. Use `copy` to save the new state returned by `step`. Update the `state`, `action`, `reward`, `next_state` of agent."
   ]
  },
  {
   "cell_type": "code",
   "execution_count": 9,
   "metadata": {
    "colab": {
     "base_uri": "https://localhost:8080/",
     "height": 232
    },
    "colab_type": "code",
    "id": "2SDbl2Kue8lk",
    "outputId": "28e93832-0aa8-4cb8-8f7b-0c689ed82c91"
   },
   "outputs": [
    {
     "name": "stdout",
     "output_type": "stream",
     "text": [
      "Episode :  0  Total Rewards :  -3\n",
      "Episode :  1  Total Rewards :  1\n",
      "Episode :  2  Total Rewards :  1\n",
      "Episode :  3  Total Rewards :  -1\n",
      "Episode :  4  Total Rewards :  5\n",
      "Episode :  5  Total Rewards :  3\n",
      "Episode :  6  Total Rewards :  3\n",
      "Episode :  7  Total Rewards :  1\n",
      "Episode :  8  Total Rewards :  -1\n",
      "Episode :  9  Total Rewards :  3\n",
      "Episode :  10  Total Rewards :  1\n",
      "Episode :  11  Total Rewards :  3\n",
      "Episode :  12  Total Rewards :  5\n",
      "Episode :  13  Total Rewards :  3\n",
      "Episode :  14  Total Rewards :  1\n",
      "Episode :  15  Total Rewards :  1\n",
      "Episode :  16  Total Rewards :  5\n",
      "Episode :  17  Total Rewards :  3\n",
      "Episode :  18  Total Rewards :  5\n",
      "Episode :  19  Total Rewards :  -1\n",
      "Episode :  20  Total Rewards :  3\n",
      "Episode :  21  Total Rewards :  5\n",
      "Episode :  22  Total Rewards :  1\n",
      "Episode :  23  Total Rewards :  1\n",
      "Episode :  24  Total Rewards :  5\n",
      "Episode :  25  Total Rewards :  5\n",
      "Episode :  26  Total Rewards :  5\n",
      "Episode :  27  Total Rewards :  1\n",
      "Episode :  28  Total Rewards :  3\n",
      "Episode :  29  Total Rewards :  -5\n",
      "Episode :  30  Total Rewards :  -1\n",
      "Episode :  31  Total Rewards :  1\n",
      "Episode :  32  Total Rewards :  1\n",
      "Episode :  33  Total Rewards :  7\n",
      "Episode :  34  Total Rewards :  3\n",
      "Episode :  35  Total Rewards :  -1\n",
      "Episode :  36  Total Rewards :  5\n",
      "Episode :  37  Total Rewards :  3\n",
      "Episode :  38  Total Rewards :  1\n",
      "Episode :  39  Total Rewards :  -1\n",
      "Episode :  40  Total Rewards :  3\n",
      "Episode :  41  Total Rewards :  5\n",
      "Episode :  42  Total Rewards :  1\n",
      "Episode :  43  Total Rewards :  1\n",
      "Episode :  44  Total Rewards :  1\n",
      "Episode :  45  Total Rewards :  3\n",
      "Episode :  46  Total Rewards :  3\n",
      "Episode :  47  Total Rewards :  3\n",
      "Episode :  48  Total Rewards :  1\n",
      "Episode :  49  Total Rewards :  5\n",
      "Episode :  50  Total Rewards :  -1\n",
      "Episode :  51  Total Rewards :  3\n",
      "Episode :  52  Total Rewards :  1\n",
      "Episode :  53  Total Rewards :  1\n",
      "Episode :  54  Total Rewards :  -1\n",
      "Episode :  55  Total Rewards :  3\n",
      "Episode :  56  Total Rewards :  5\n",
      "Episode :  57  Total Rewards :  1\n",
      "Episode :  58  Total Rewards :  3\n",
      "Episode :  59  Total Rewards :  8\n",
      "Episode :  60  Total Rewards :  -1\n",
      "Episode :  61  Total Rewards :  3\n",
      "Episode :  62  Total Rewards :  1\n",
      "Episode :  63  Total Rewards :  3\n",
      "Episode :  64  Total Rewards :  3\n",
      "Episode :  65  Total Rewards :  3\n",
      "Episode :  66  Total Rewards :  1\n",
      "Episode :  67  Total Rewards :  5\n",
      "Episode :  68  Total Rewards :  7\n",
      "Episode :  69  Total Rewards :  5\n",
      "Episode :  70  Total Rewards :  3\n",
      "Episode :  71  Total Rewards :  5\n",
      "Episode :  72  Total Rewards :  3\n",
      "Episode :  73  Total Rewards :  5\n",
      "Episode :  74  Total Rewards :  3\n",
      "Episode :  75  Total Rewards :  3\n",
      "Episode :  76  Total Rewards :  5\n",
      "Episode :  77  Total Rewards :  8\n",
      "Episode :  78  Total Rewards :  3\n",
      "Episode :  79  Total Rewards :  1\n",
      "Episode :  80  Total Rewards :  5\n",
      "Episode :  81  Total Rewards :  1\n",
      "Episode :  82  Total Rewards :  3\n",
      "Episode :  83  Total Rewards :  7\n",
      "Episode :  84  Total Rewards :  1\n",
      "Episode :  85  Total Rewards :  5\n",
      "Episode :  86  Total Rewards :  5\n",
      "Episode :  87  Total Rewards :  5\n",
      "Episode :  88  Total Rewards :  7\n",
      "Episode :  89  Total Rewards :  7\n",
      "Episode :  90  Total Rewards :  5\n",
      "Episode :  91  Total Rewards :  7\n",
      "Episode :  92  Total Rewards :  5\n",
      "Episode :  93  Total Rewards :  8\n",
      "Episode :  94  Total Rewards :  7\n",
      "Episode :  95  Total Rewards :  5\n",
      "Episode :  96  Total Rewards :  5\n",
      "Episode :  97  Total Rewards :  5\n",
      "Episode :  98  Total Rewards :  1\n",
      "Episode :  99  Total Rewards :  5\n",
      "Episode :  100  Total Rewards :  3\n",
      "Episode :  101  Total Rewards :  5\n",
      "Episode :  102  Total Rewards :  7\n",
      "Episode :  103  Total Rewards :  7\n",
      "Episode :  104  Total Rewards :  7\n",
      "Episode :  105  Total Rewards :  5\n",
      "Episode :  106  Total Rewards :  3\n",
      "Episode :  107  Total Rewards :  3\n",
      "Episode :  108  Total Rewards :  8\n",
      "Episode :  109  Total Rewards :  7\n",
      "Episode :  110  Total Rewards :  7\n",
      "Episode :  111  Total Rewards :  3\n",
      "Episode :  112  Total Rewards :  7\n",
      "Episode :  113  Total Rewards :  7\n",
      "Episode :  114  Total Rewards :  8\n",
      "Episode :  115  Total Rewards :  7\n",
      "Episode :  116  Total Rewards :  5\n",
      "Episode :  117  Total Rewards :  3\n",
      "Episode :  118  Total Rewards :  5\n",
      "Episode :  119  Total Rewards :  7\n",
      "Episode :  120  Total Rewards :  3\n",
      "Episode :  121  Total Rewards :  3\n",
      "Episode :  122  Total Rewards :  7\n",
      "Episode :  123  Total Rewards :  8\n",
      "Episode :  124  Total Rewards :  5\n",
      "Episode :  125  Total Rewards :  5\n",
      "Episode :  126  Total Rewards :  5\n",
      "Episode :  127  Total Rewards :  8\n",
      "Episode :  128  Total Rewards :  7\n",
      "Episode :  129  Total Rewards :  5\n",
      "Episode :  130  Total Rewards :  5\n",
      "Episode :  131  Total Rewards :  7\n",
      "Episode :  132  Total Rewards :  5\n",
      "Episode :  133  Total Rewards :  8\n",
      "Episode :  134  Total Rewards :  5\n",
      "Episode :  135  Total Rewards :  7\n",
      "Episode :  136  Total Rewards :  7\n",
      "Episode :  137  Total Rewards :  8\n",
      "Episode :  138  Total Rewards :  8\n",
      "Episode :  139  Total Rewards :  8\n",
      "Episode :  140  Total Rewards :  5\n",
      "Episode :  141  Total Rewards :  8\n",
      "Episode :  142  Total Rewards :  5\n",
      "Episode :  143  Total Rewards :  7\n",
      "Episode :  144  Total Rewards :  8\n",
      "Episode :  145  Total Rewards :  8\n",
      "Episode :  146  Total Rewards :  5\n",
      "Episode :  147  Total Rewards :  7\n",
      "Episode :  148  Total Rewards :  7\n",
      "Episode :  149  Total Rewards :  8\n",
      "Episode :  150  Total Rewards :  3\n",
      "Episode :  151  Total Rewards :  7\n",
      "Episode :  152  Total Rewards :  3\n",
      "Episode :  153  Total Rewards :  7\n",
      "Episode :  154  Total Rewards :  5\n",
      "Episode :  155  Total Rewards :  5\n",
      "Episode :  156  Total Rewards :  7\n",
      "Episode :  157  Total Rewards :  8\n",
      "Episode :  158  Total Rewards :  7\n",
      "Episode :  159  Total Rewards :  5\n",
      "Episode :  160  Total Rewards :  5\n",
      "Episode :  161  Total Rewards :  7\n",
      "Episode :  162  Total Rewards :  3\n",
      "Episode :  163  Total Rewards :  8\n",
      "Episode :  164  Total Rewards :  7\n",
      "Episode :  165  Total Rewards :  8\n",
      "Episode :  166  Total Rewards :  7\n",
      "Episode :  167  Total Rewards :  7\n",
      "Episode :  168  Total Rewards :  8\n",
      "Episode :  169  Total Rewards :  7\n",
      "Episode :  170  Total Rewards :  7\n",
      "Episode :  171  Total Rewards :  8\n",
      "Episode :  172  Total Rewards :  7\n",
      "Episode :  173  Total Rewards :  5\n",
      "Episode :  174  Total Rewards :  5\n",
      "Episode :  175  Total Rewards :  8\n",
      "Episode :  176  Total Rewards :  7\n",
      "Episode :  177  Total Rewards :  8\n",
      "Episode :  178  Total Rewards :  7\n",
      "Episode :  179  Total Rewards :  7\n",
      "Episode :  180  Total Rewards :  7\n",
      "Episode :  181  Total Rewards :  7\n",
      "Episode :  182  Total Rewards :  7\n",
      "Episode :  183  Total Rewards :  8\n",
      "Episode :  184  Total Rewards :  8\n",
      "Episode :  185  Total Rewards :  7\n",
      "Episode :  186  Total Rewards :  8\n",
      "Episode :  187  Total Rewards :  8\n",
      "Episode :  188  Total Rewards :  5\n",
      "Episode :  189  Total Rewards :  7\n",
      "Episode :  190  Total Rewards :  5\n",
      "Episode :  191  Total Rewards :  8\n",
      "Episode :  192  Total Rewards :  8\n",
      "Episode :  193  Total Rewards :  8\n",
      "Episode :  194  Total Rewards :  8\n",
      "Episode :  195  Total Rewards :  7\n",
      "Episode :  196  Total Rewards :  8\n",
      "Episode :  197  Total Rewards :  8\n",
      "Episode :  198  Total Rewards :  7\n",
      "Episode :  199  Total Rewards :  8\n",
      "Episode :  200  Total Rewards :  8\n",
      "Episode :  201  Total Rewards :  7\n",
      "Episode :  202  Total Rewards :  7\n",
      "Episode :  203  Total Rewards :  8\n",
      "Episode :  204  Total Rewards :  8\n",
      "Episode :  205  Total Rewards :  8\n",
      "Episode :  206  Total Rewards :  7\n",
      "Episode :  207  Total Rewards :  5\n",
      "Episode :  208  Total Rewards :  8\n",
      "Episode :  209  Total Rewards :  5\n",
      "Episode :  210  Total Rewards :  7\n",
      "Episode :  211  Total Rewards :  5\n",
      "Episode :  212  Total Rewards :  8\n",
      "Episode :  213  Total Rewards :  8\n",
      "Episode :  214  Total Rewards :  8\n",
      "Episode :  215  Total Rewards :  8\n",
      "Episode :  216  Total Rewards :  8\n",
      "Episode :  217  Total Rewards :  7\n",
      "Episode :  218  Total Rewards :  8\n",
      "Episode :  219  Total Rewards :  8\n",
      "Episode :  220  Total Rewards :  7\n",
      "Episode :  221  Total Rewards :  8\n",
      "Episode :  222  Total Rewards :  8\n",
      "Episode :  223  Total Rewards :  8\n",
      "Episode :  224  Total Rewards :  7\n",
      "Episode :  225  Total Rewards :  8\n",
      "Episode :  226  Total Rewards :  8\n",
      "Episode :  227  Total Rewards :  8\n",
      "Episode :  228  Total Rewards :  8\n",
      "Episode :  229  Total Rewards :  8\n",
      "Episode :  230  Total Rewards :  7\n",
      "Episode :  231  Total Rewards :  7\n",
      "Episode :  232  Total Rewards :  8\n",
      "Episode :  233  Total Rewards :  7\n",
      "Episode :  234  Total Rewards :  8\n",
      "Episode :  235  Total Rewards :  7\n",
      "Episode :  236  Total Rewards :  8\n",
      "Episode :  237  Total Rewards :  7\n",
      "Episode :  238  Total Rewards :  8\n",
      "Episode :  239  Total Rewards :  7\n",
      "Episode :  240  Total Rewards :  7\n"
     ]
    },
    {
     "name": "stdout",
     "output_type": "stream",
     "text": [
      "Episode :  241  Total Rewards :  8\n",
      "Episode :  242  Total Rewards :  8\n",
      "Episode :  243  Total Rewards :  7\n",
      "Episode :  244  Total Rewards :  8\n",
      "Episode :  245  Total Rewards :  8\n",
      "Episode :  246  Total Rewards :  3\n",
      "Episode :  247  Total Rewards :  7\n",
      "Episode :  248  Total Rewards :  8\n",
      "Episode :  249  Total Rewards :  5\n",
      "Episode :  250  Total Rewards :  5\n",
      "Episode :  251  Total Rewards :  7\n",
      "Episode :  252  Total Rewards :  7\n",
      "Episode :  253  Total Rewards :  7\n",
      "Episode :  254  Total Rewards :  7\n",
      "Episode :  255  Total Rewards :  3\n",
      "Episode :  256  Total Rewards :  8\n",
      "Episode :  257  Total Rewards :  7\n",
      "Episode :  258  Total Rewards :  5\n",
      "Episode :  259  Total Rewards :  7\n",
      "Episode :  260  Total Rewards :  8\n",
      "Episode :  261  Total Rewards :  8\n",
      "Episode :  262  Total Rewards :  8\n",
      "Episode :  263  Total Rewards :  8\n",
      "Episode :  264  Total Rewards :  7\n",
      "Episode :  265  Total Rewards :  8\n",
      "Episode :  266  Total Rewards :  8\n",
      "Episode :  267  Total Rewards :  8\n",
      "Episode :  268  Total Rewards :  8\n",
      "Episode :  269  Total Rewards :  7\n",
      "Episode :  270  Total Rewards :  7\n",
      "Episode :  271  Total Rewards :  8\n",
      "Episode :  272  Total Rewards :  7\n",
      "Episode :  273  Total Rewards :  8\n",
      "Episode :  274  Total Rewards :  8\n",
      "Episode :  275  Total Rewards :  8\n",
      "Episode :  276  Total Rewards :  7\n",
      "Episode :  277  Total Rewards :  3\n",
      "Episode :  278  Total Rewards :  7\n",
      "Episode :  279  Total Rewards :  8\n",
      "Episode :  280  Total Rewards :  7\n",
      "Episode :  281  Total Rewards :  7\n",
      "Episode :  282  Total Rewards :  8\n",
      "Episode :  283  Total Rewards :  8\n",
      "Episode :  284  Total Rewards :  8\n",
      "Episode :  285  Total Rewards :  8\n",
      "Episode :  286  Total Rewards :  7\n",
      "Episode :  287  Total Rewards :  8\n",
      "Episode :  288  Total Rewards :  7\n",
      "Episode :  289  Total Rewards :  8\n",
      "Episode :  290  Total Rewards :  8\n",
      "Episode :  291  Total Rewards :  8\n",
      "Episode :  292  Total Rewards :  8\n",
      "Episode :  293  Total Rewards :  8\n",
      "Episode :  294  Total Rewards :  8\n",
      "Episode :  295  Total Rewards :  8\n",
      "Episode :  296  Total Rewards :  8\n",
      "Episode :  297  Total Rewards :  7\n",
      "Episode :  298  Total Rewards :  8\n",
      "Episode :  299  Total Rewards :  7\n",
      "Episode :  300  Total Rewards :  8\n",
      "Episode :  301  Total Rewards :  5\n",
      "Episode :  302  Total Rewards :  8\n",
      "Episode :  303  Total Rewards :  7\n",
      "Episode :  304  Total Rewards :  5\n",
      "Episode :  305  Total Rewards :  7\n",
      "Episode :  306  Total Rewards :  8\n",
      "Episode :  307  Total Rewards :  8\n",
      "Episode :  308  Total Rewards :  8\n",
      "Episode :  309  Total Rewards :  7\n",
      "Episode :  310  Total Rewards :  7\n",
      "Episode :  311  Total Rewards :  7\n",
      "Episode :  312  Total Rewards :  8\n",
      "Episode :  313  Total Rewards :  8\n",
      "Episode :  314  Total Rewards :  7\n",
      "Episode :  315  Total Rewards :  5\n",
      "Episode :  316  Total Rewards :  8\n",
      "Episode :  317  Total Rewards :  8\n",
      "Episode :  318  Total Rewards :  8\n",
      "Episode :  319  Total Rewards :  8\n",
      "Episode :  320  Total Rewards :  8\n",
      "Episode :  321  Total Rewards :  8\n",
      "Episode :  322  Total Rewards :  7\n",
      "Episode :  323  Total Rewards :  8\n",
      "Episode :  324  Total Rewards :  5\n",
      "Episode :  325  Total Rewards :  8\n",
      "Episode :  326  Total Rewards :  7\n",
      "Episode :  327  Total Rewards :  8\n",
      "Episode :  328  Total Rewards :  8\n",
      "Episode :  329  Total Rewards :  8\n",
      "Episode :  330  Total Rewards :  8\n",
      "Episode :  331  Total Rewards :  7\n",
      "Episode :  332  Total Rewards :  5\n",
      "Episode :  333  Total Rewards :  7\n",
      "Episode :  334  Total Rewards :  8\n",
      "Episode :  335  Total Rewards :  8\n",
      "Episode :  336  Total Rewards :  5\n",
      "Episode :  337  Total Rewards :  8\n",
      "Episode :  338  Total Rewards :  5\n",
      "Episode :  339  Total Rewards :  8\n",
      "Episode :  340  Total Rewards :  8\n",
      "Episode :  341  Total Rewards :  8\n",
      "Episode :  342  Total Rewards :  8\n",
      "Episode :  343  Total Rewards :  8\n",
      "Episode :  344  Total Rewards :  7\n",
      "Episode :  345  Total Rewards :  7\n",
      "Episode :  346  Total Rewards :  8\n",
      "Episode :  347  Total Rewards :  8\n",
      "Episode :  348  Total Rewards :  8\n",
      "Episode :  349  Total Rewards :  8\n",
      "Episode :  350  Total Rewards :  8\n",
      "Episode :  351  Total Rewards :  8\n",
      "Episode :  352  Total Rewards :  8\n",
      "Episode :  353  Total Rewards :  5\n",
      "Episode :  354  Total Rewards :  8\n",
      "Episode :  355  Total Rewards :  8\n",
      "Episode :  356  Total Rewards :  8\n",
      "Episode :  357  Total Rewards :  8\n",
      "Episode :  358  Total Rewards :  8\n",
      "Episode :  359  Total Rewards :  8\n",
      "Episode :  360  Total Rewards :  8\n",
      "Episode :  361  Total Rewards :  8\n",
      "Episode :  362  Total Rewards :  8\n",
      "Episode :  363  Total Rewards :  8\n",
      "Episode :  364  Total Rewards :  8\n",
      "Episode :  365  Total Rewards :  7\n",
      "Episode :  366  Total Rewards :  8\n",
      "Episode :  367  Total Rewards :  5\n",
      "Episode :  368  Total Rewards :  7\n",
      "Episode :  369  Total Rewards :  7\n",
      "Episode :  370  Total Rewards :  8\n",
      "Episode :  371  Total Rewards :  8\n",
      "Episode :  372  Total Rewards :  5\n",
      "Episode :  373  Total Rewards :  8\n",
      "Episode :  374  Total Rewards :  8\n",
      "Episode :  375  Total Rewards :  8\n",
      "Episode :  376  Total Rewards :  5\n",
      "Episode :  377  Total Rewards :  8\n",
      "Episode :  378  Total Rewards :  8\n",
      "Episode :  379  Total Rewards :  8\n",
      "Episode :  380  Total Rewards :  8\n",
      "Episode :  381  Total Rewards :  5\n",
      "Episode :  382  Total Rewards :  8\n",
      "Episode :  383  Total Rewards :  8\n",
      "Episode :  384  Total Rewards :  7\n",
      "Episode :  385  Total Rewards :  8\n",
      "Episode :  386  Total Rewards :  7\n",
      "Episode :  387  Total Rewards :  5\n",
      "Episode :  388  Total Rewards :  7\n",
      "Episode :  389  Total Rewards :  7\n",
      "Episode :  390  Total Rewards :  8\n",
      "Episode :  391  Total Rewards :  7\n",
      "Episode :  392  Total Rewards :  8\n",
      "Episode :  393  Total Rewards :  8\n",
      "Episode :  394  Total Rewards :  8\n",
      "Episode :  395  Total Rewards :  8\n",
      "Episode :  396  Total Rewards :  7\n",
      "Episode :  397  Total Rewards :  8\n",
      "Episode :  398  Total Rewards :  7\n",
      "Episode :  399  Total Rewards :  8\n",
      "Episode :  400  Total Rewards :  8\n",
      "Episode :  401  Total Rewards :  8\n",
      "Episode :  402  Total Rewards :  7\n",
      "Episode :  403  Total Rewards :  8\n",
      "Episode :  404  Total Rewards :  7\n",
      "Episode :  405  Total Rewards :  8\n",
      "Episode :  406  Total Rewards :  8\n",
      "Episode :  407  Total Rewards :  8\n",
      "Episode :  408  Total Rewards :  8\n",
      "Episode :  409  Total Rewards :  8\n",
      "Episode :  410  Total Rewards :  8\n",
      "Episode :  411  Total Rewards :  8\n",
      "Episode :  412  Total Rewards :  8\n",
      "Episode :  413  Total Rewards :  8\n",
      "Episode :  414  Total Rewards :  8\n",
      "Episode :  415  Total Rewards :  7\n",
      "Episode :  416  Total Rewards :  7\n",
      "Episode :  417  Total Rewards :  7\n",
      "Episode :  418  Total Rewards :  7\n",
      "Episode :  419  Total Rewards :  7\n",
      "Episode :  420  Total Rewards :  7\n",
      "Episode :  421  Total Rewards :  8\n",
      "Episode :  422  Total Rewards :  7\n",
      "Episode :  423  Total Rewards :  7\n",
      "Episode :  424  Total Rewards :  8\n",
      "Episode :  425  Total Rewards :  5\n",
      "Episode :  426  Total Rewards :  8\n",
      "Episode :  427  Total Rewards :  8\n",
      "Episode :  428  Total Rewards :  8\n",
      "Episode :  429  Total Rewards :  8\n",
      "Episode :  430  Total Rewards :  8\n",
      "Episode :  431  Total Rewards :  8\n",
      "Episode :  432  Total Rewards :  8\n",
      "Episode :  433  Total Rewards :  8\n",
      "Episode :  434  Total Rewards :  5\n",
      "Episode :  435  Total Rewards :  8\n",
      "Episode :  436  Total Rewards :  7\n",
      "Episode :  437  Total Rewards :  8\n",
      "Episode :  438  Total Rewards :  5\n",
      "Episode :  439  Total Rewards :  8\n",
      "Episode :  440  Total Rewards :  8\n",
      "Episode :  441  Total Rewards :  8\n",
      "Episode :  442  Total Rewards :  7\n",
      "Episode :  443  Total Rewards :  7\n",
      "Episode :  444  Total Rewards :  7\n",
      "Episode :  445  Total Rewards :  8\n",
      "Episode :  446  Total Rewards :  7\n",
      "Episode :  447  Total Rewards :  8\n",
      "Episode :  448  Total Rewards :  8\n",
      "Episode :  449  Total Rewards :  8\n",
      "Episode :  450  Total Rewards :  8\n",
      "Episode :  451  Total Rewards :  8\n",
      "Episode :  452  Total Rewards :  8\n",
      "Episode :  453  Total Rewards :  8\n",
      "Episode :  454  Total Rewards :  7\n",
      "Episode :  455  Total Rewards :  8\n",
      "Episode :  456  Total Rewards :  8\n",
      "Episode :  457  Total Rewards :  8\n",
      "Episode :  458  Total Rewards :  8\n",
      "Episode :  459  Total Rewards :  8\n",
      "Episode :  460  Total Rewards :  8\n",
      "Episode :  461  Total Rewards :  8\n",
      "Episode :  462  Total Rewards :  8\n",
      "Episode :  463  Total Rewards :  7\n",
      "Episode :  464  Total Rewards :  7\n",
      "Episode :  465  Total Rewards :  8\n",
      "Episode :  466  Total Rewards :  8\n",
      "Episode :  467  Total Rewards :  8\n",
      "Episode :  468  Total Rewards :  8\n",
      "Episode :  469  Total Rewards :  7\n",
      "Episode :  470  Total Rewards :  8\n",
      "Episode :  471  Total Rewards :  7\n",
      "Episode :  472  Total Rewards :  7\n",
      "Episode :  473  Total Rewards :  8\n",
      "Episode :  474  Total Rewards :  5\n",
      "Episode :  475  Total Rewards :  8\n",
      "Episode :  476  Total Rewards :  7\n",
      "Episode :  477  Total Rewards :  7\n"
     ]
    },
    {
     "name": "stdout",
     "output_type": "stream",
     "text": [
      "Episode :  478  Total Rewards :  7\n",
      "Episode :  479  Total Rewards :  8\n",
      "Episode :  480  Total Rewards :  7\n",
      "Episode :  481  Total Rewards :  7\n",
      "Episode :  482  Total Rewards :  8\n",
      "Episode :  483  Total Rewards :  7\n",
      "Episode :  484  Total Rewards :  8\n",
      "Episode :  485  Total Rewards :  7\n",
      "Episode :  486  Total Rewards :  8\n",
      "Episode :  487  Total Rewards :  8\n",
      "Episode :  488  Total Rewards :  7\n",
      "Episode :  489  Total Rewards :  8\n",
      "Episode :  490  Total Rewards :  8\n",
      "Episode :  491  Total Rewards :  8\n",
      "Episode :  492  Total Rewards :  8\n",
      "Episode :  493  Total Rewards :  7\n",
      "Episode :  494  Total Rewards :  7\n",
      "Episode :  495  Total Rewards :  8\n",
      "Episode :  496  Total Rewards :  7\n",
      "Episode :  497  Total Rewards :  7\n",
      "Episode :  498  Total Rewards :  8\n",
      "Episode :  499  Total Rewards :  7\n",
      "Episode :  500  Total Rewards :  8\n",
      "Episode :  501  Total Rewards :  8\n",
      "Episode :  502  Total Rewards :  8\n",
      "Episode :  503  Total Rewards :  8\n",
      "Episode :  504  Total Rewards :  7\n",
      "Episode :  505  Total Rewards :  7\n",
      "Episode :  506  Total Rewards :  5\n",
      "Episode :  507  Total Rewards :  8\n",
      "Episode :  508  Total Rewards :  3\n",
      "Episode :  509  Total Rewards :  8\n",
      "Episode :  510  Total Rewards :  8\n",
      "Episode :  511  Total Rewards :  7\n",
      "Episode :  512  Total Rewards :  8\n",
      "Episode :  513  Total Rewards :  7\n",
      "Episode :  514  Total Rewards :  8\n",
      "Episode :  515  Total Rewards :  7\n",
      "Episode :  516  Total Rewards :  8\n",
      "Episode :  517  Total Rewards :  3\n",
      "Episode :  518  Total Rewards :  7\n",
      "Episode :  519  Total Rewards :  8\n",
      "Episode :  520  Total Rewards :  3\n",
      "Episode :  521  Total Rewards :  8\n",
      "Episode :  522  Total Rewards :  7\n",
      "Episode :  523  Total Rewards :  8\n",
      "Episode :  524  Total Rewards :  7\n",
      "Episode :  525  Total Rewards :  8\n",
      "Episode :  526  Total Rewards :  8\n",
      "Episode :  527  Total Rewards :  8\n",
      "Episode :  528  Total Rewards :  7\n",
      "Episode :  529  Total Rewards :  8\n",
      "Episode :  530  Total Rewards :  8\n",
      "Episode :  531  Total Rewards :  8\n",
      "Episode :  532  Total Rewards :  5\n",
      "Episode :  533  Total Rewards :  8\n",
      "Episode :  534  Total Rewards :  8\n",
      "Episode :  535  Total Rewards :  8\n",
      "Episode :  536  Total Rewards :  7\n",
      "Episode :  537  Total Rewards :  7\n",
      "Episode :  538  Total Rewards :  8\n",
      "Episode :  539  Total Rewards :  8\n",
      "Episode :  540  Total Rewards :  7\n",
      "Episode :  541  Total Rewards :  7\n",
      "Episode :  542  Total Rewards :  5\n",
      "Episode :  543  Total Rewards :  7\n",
      "Episode :  544  Total Rewards :  7\n",
      "Episode :  545  Total Rewards :  7\n",
      "Episode :  546  Total Rewards :  7\n",
      "Episode :  547  Total Rewards :  8\n",
      "Episode :  548  Total Rewards :  8\n",
      "Episode :  549  Total Rewards :  8\n",
      "Episode :  550  Total Rewards :  8\n",
      "Episode :  551  Total Rewards :  7\n",
      "Episode :  552  Total Rewards :  7\n",
      "Episode :  553  Total Rewards :  8\n",
      "Episode :  554  Total Rewards :  8\n",
      "Episode :  555  Total Rewards :  7\n",
      "Episode :  556  Total Rewards :  8\n",
      "Episode :  557  Total Rewards :  8\n",
      "Episode :  558  Total Rewards :  8\n",
      "Episode :  559  Total Rewards :  7\n",
      "Episode :  560  Total Rewards :  7\n",
      "Episode :  561  Total Rewards :  8\n",
      "Episode :  562  Total Rewards :  7\n",
      "Episode :  563  Total Rewards :  7\n",
      "Episode :  564  Total Rewards :  8\n",
      "Episode :  565  Total Rewards :  8\n",
      "Episode :  566  Total Rewards :  7\n",
      "Episode :  567  Total Rewards :  8\n",
      "Episode :  568  Total Rewards :  8\n",
      "Episode :  569  Total Rewards :  7\n",
      "Episode :  570  Total Rewards :  8\n",
      "Episode :  571  Total Rewards :  7\n",
      "Episode :  572  Total Rewards :  8\n",
      "Episode :  573  Total Rewards :  7\n",
      "Episode :  574  Total Rewards :  8\n",
      "Episode :  575  Total Rewards :  7\n",
      "Episode :  576  Total Rewards :  8\n",
      "Episode :  577  Total Rewards :  7\n",
      "Episode :  578  Total Rewards :  7\n",
      "Episode :  579  Total Rewards :  8\n",
      "Episode :  580  Total Rewards :  8\n",
      "Episode :  581  Total Rewards :  8\n",
      "Episode :  582  Total Rewards :  8\n",
      "Episode :  583  Total Rewards :  7\n",
      "Episode :  584  Total Rewards :  8\n",
      "Episode :  585  Total Rewards :  8\n",
      "Episode :  586  Total Rewards :  8\n",
      "Episode :  587  Total Rewards :  5\n",
      "Episode :  588  Total Rewards :  7\n",
      "Episode :  589  Total Rewards :  8\n",
      "Episode :  590  Total Rewards :  7\n",
      "Episode :  591  Total Rewards :  7\n",
      "Episode :  592  Total Rewards :  7\n",
      "Episode :  593  Total Rewards :  7\n",
      "Episode :  594  Total Rewards :  5\n",
      "Episode :  595  Total Rewards :  7\n",
      "Episode :  596  Total Rewards :  8\n",
      "Episode :  597  Total Rewards :  7\n",
      "Episode :  598  Total Rewards :  7\n",
      "Episode :  599  Total Rewards :  7\n",
      "Episode :  600  Total Rewards :  8\n",
      "Episode :  601  Total Rewards :  8\n",
      "Episode :  602  Total Rewards :  7\n",
      "Episode :  603  Total Rewards :  8\n",
      "Episode :  604  Total Rewards :  7\n",
      "Episode :  605  Total Rewards :  8\n",
      "Episode :  606  Total Rewards :  7\n",
      "Episode :  607  Total Rewards :  7\n",
      "Episode :  608  Total Rewards :  7\n",
      "Episode :  609  Total Rewards :  8\n",
      "Episode :  610  Total Rewards :  7\n",
      "Episode :  611  Total Rewards :  8\n",
      "Episode :  612  Total Rewards :  8\n",
      "Episode :  613  Total Rewards :  5\n",
      "Episode :  614  Total Rewards :  8\n",
      "Episode :  615  Total Rewards :  8\n",
      "Episode :  616  Total Rewards :  8\n",
      "Episode :  617  Total Rewards :  8\n",
      "Episode :  618  Total Rewards :  8\n",
      "Episode :  619  Total Rewards :  7\n",
      "Episode :  620  Total Rewards :  7\n",
      "Episode :  621  Total Rewards :  8\n",
      "Episode :  622  Total Rewards :  7\n",
      "Episode :  623  Total Rewards :  5\n",
      "Episode :  624  Total Rewards :  7\n",
      "Episode :  625  Total Rewards :  8\n",
      "Episode :  626  Total Rewards :  7\n",
      "Episode :  627  Total Rewards :  7\n",
      "Episode :  628  Total Rewards :  8\n",
      "Episode :  629  Total Rewards :  5\n",
      "Episode :  630  Total Rewards :  8\n",
      "Episode :  631  Total Rewards :  8\n",
      "Episode :  632  Total Rewards :  8\n",
      "Episode :  633  Total Rewards :  7\n",
      "Episode :  634  Total Rewards :  7\n",
      "Episode :  635  Total Rewards :  8\n",
      "Episode :  636  Total Rewards :  8\n",
      "Episode :  637  Total Rewards :  7\n",
      "Episode :  638  Total Rewards :  8\n",
      "Episode :  639  Total Rewards :  8\n",
      "Episode :  640  Total Rewards :  7\n",
      "Episode :  641  Total Rewards :  8\n",
      "Episode :  642  Total Rewards :  7\n",
      "Episode :  643  Total Rewards :  7\n",
      "Episode :  644  Total Rewards :  8\n",
      "Episode :  645  Total Rewards :  7\n",
      "Episode :  646  Total Rewards :  8\n",
      "Episode :  647  Total Rewards :  8\n",
      "Episode :  648  Total Rewards :  7\n",
      "Episode :  649  Total Rewards :  8\n",
      "Episode :  650  Total Rewards :  8\n",
      "Episode :  651  Total Rewards :  7\n",
      "Episode :  652  Total Rewards :  7\n",
      "Episode :  653  Total Rewards :  5\n",
      "Episode :  654  Total Rewards :  8\n",
      "Episode :  655  Total Rewards :  7\n",
      "Episode :  656  Total Rewards :  8\n",
      "Episode :  657  Total Rewards :  7\n",
      "Episode :  658  Total Rewards :  8\n",
      "Episode :  659  Total Rewards :  7\n",
      "Episode :  660  Total Rewards :  8\n",
      "Episode :  661  Total Rewards :  8\n",
      "Episode :  662  Total Rewards :  8\n",
      "Episode :  663  Total Rewards :  8\n",
      "Episode :  664  Total Rewards :  8\n",
      "Episode :  665  Total Rewards :  8\n",
      "Episode :  666  Total Rewards :  8\n",
      "Episode :  667  Total Rewards :  5\n",
      "Episode :  668  Total Rewards :  8\n",
      "Episode :  669  Total Rewards :  8\n",
      "Episode :  670  Total Rewards :  8\n",
      "Episode :  671  Total Rewards :  5\n",
      "Episode :  672  Total Rewards :  7\n",
      "Episode :  673  Total Rewards :  8\n",
      "Episode :  674  Total Rewards :  8\n",
      "Episode :  675  Total Rewards :  7\n",
      "Episode :  676  Total Rewards :  7\n",
      "Episode :  677  Total Rewards :  8\n",
      "Episode :  678  Total Rewards :  8\n",
      "Episode :  679  Total Rewards :  7\n",
      "Episode :  680  Total Rewards :  8\n",
      "Episode :  681  Total Rewards :  8\n",
      "Episode :  682  Total Rewards :  8\n",
      "Episode :  683  Total Rewards :  8\n",
      "Episode :  684  Total Rewards :  8\n",
      "Episode :  685  Total Rewards :  8\n",
      "Episode :  686  Total Rewards :  8\n",
      "Episode :  687  Total Rewards :  7\n",
      "Episode :  688  Total Rewards :  7\n",
      "Episode :  689  Total Rewards :  8\n",
      "Episode :  690  Total Rewards :  8\n",
      "Episode :  691  Total Rewards :  8\n",
      "Episode :  692  Total Rewards :  8\n",
      "Episode :  693  Total Rewards :  8\n",
      "Episode :  694  Total Rewards :  8\n",
      "Episode :  695  Total Rewards :  8\n",
      "Episode :  696  Total Rewards :  7\n",
      "Episode :  697  Total Rewards :  7\n",
      "Episode :  698  Total Rewards :  8\n",
      "Episode :  699  Total Rewards :  5\n",
      "Episode :  700  Total Rewards :  8\n",
      "Episode :  701  Total Rewards :  7\n",
      "Episode :  702  Total Rewards :  8\n",
      "Episode :  703  Total Rewards :  8\n",
      "Episode :  704  Total Rewards :  5\n",
      "Episode :  705  Total Rewards :  7\n",
      "Episode :  706  Total Rewards :  7\n",
      "Episode :  707  Total Rewards :  7\n",
      "Episode :  708  Total Rewards :  8\n",
      "Episode :  709  Total Rewards :  8\n",
      "Episode :  710  Total Rewards :  8\n",
      "Episode :  711  Total Rewards :  8\n",
      "Episode :  712  Total Rewards :  8\n",
      "Episode :  713  Total Rewards :  8\n",
      "Episode :  714  Total Rewards :  8\n",
      "Episode :  715  Total Rewards :  7\n",
      "Episode :  716  Total Rewards :  8\n",
      "Episode :  717  Total Rewards :  8\n",
      "Episode :  718  Total Rewards :  8\n",
      "Episode :  719  Total Rewards :  7\n",
      "Episode :  720  Total Rewards :  8\n",
      "Episode :  721  Total Rewards :  7\n",
      "Episode :  722  Total Rewards :  8\n",
      "Episode :  723  Total Rewards :  8\n",
      "Episode :  724  Total Rewards :  8\n",
      "Episode :  725  Total Rewards :  8\n",
      "Episode :  726  Total Rewards :  8\n",
      "Episode :  727  Total Rewards :  7\n",
      "Episode :  728  Total Rewards :  8\n",
      "Episode :  729  Total Rewards :  8\n",
      "Episode :  730  Total Rewards :  8\n",
      "Episode :  731  Total Rewards :  5\n",
      "Episode :  732  Total Rewards :  8\n",
      "Episode :  733  Total Rewards :  7\n",
      "Episode :  734  Total Rewards :  8\n",
      "Episode :  735  Total Rewards :  7\n",
      "Episode :  736  Total Rewards :  8\n",
      "Episode :  737  Total Rewards :  8\n",
      "Episode :  738  Total Rewards :  8\n",
      "Episode :  739  Total Rewards :  7\n",
      "Episode :  740  Total Rewards :  8\n",
      "Episode :  741  Total Rewards :  8\n",
      "Episode :  742  Total Rewards :  8\n",
      "Episode :  743  Total Rewards :  8\n",
      "Episode :  744  Total Rewards :  7\n",
      "Episode :  745  Total Rewards :  8\n",
      "Episode :  746  Total Rewards :  8\n",
      "Episode :  747  Total Rewards :  8\n",
      "Episode :  748  Total Rewards :  7\n",
      "Episode :  749  Total Rewards :  8\n",
      "Episode :  750  Total Rewards :  7\n",
      "Episode :  751  Total Rewards :  5\n",
      "Episode :  752  Total Rewards :  8\n",
      "Episode :  753  Total Rewards :  8\n",
      "Episode :  754  Total Rewards :  8\n",
      "Episode :  755  Total Rewards :  5\n",
      "Episode :  756  Total Rewards :  8\n",
      "Episode :  757  Total Rewards :  7\n",
      "Episode :  758  Total Rewards :  8\n",
      "Episode :  759  Total Rewards :  7\n",
      "Episode :  760  Total Rewards :  7\n",
      "Episode :  761  Total Rewards :  8\n",
      "Episode :  762  Total Rewards :  8\n",
      "Episode :  763  Total Rewards :  8\n",
      "Episode :  764  Total Rewards :  8\n",
      "Episode :  765  Total Rewards :  8\n",
      "Episode :  766  Total Rewards :  8\n",
      "Episode :  767  Total Rewards :  7\n",
      "Episode :  768  Total Rewards :  7\n",
      "Episode :  769  Total Rewards :  7\n",
      "Episode :  770  Total Rewards :  7\n",
      "Episode :  771  Total Rewards :  8\n",
      "Episode :  772  Total Rewards :  8\n",
      "Episode :  773  Total Rewards :  7\n",
      "Episode :  774  Total Rewards :  3\n",
      "Episode :  775  Total Rewards :  8\n",
      "Episode :  776  Total Rewards :  5\n",
      "Episode :  777  Total Rewards :  7\n",
      "Episode :  778  Total Rewards :  8\n",
      "Episode :  779  Total Rewards :  7\n",
      "Episode :  780  Total Rewards :  7\n",
      "Episode :  781  Total Rewards :  7\n",
      "Episode :  782  Total Rewards :  7\n",
      "Episode :  783  Total Rewards :  7\n",
      "Episode :  784  Total Rewards :  7\n",
      "Episode :  785  Total Rewards :  7\n",
      "Episode :  786  Total Rewards :  7\n",
      "Episode :  787  Total Rewards :  8\n",
      "Episode :  788  Total Rewards :  7\n",
      "Episode :  789  Total Rewards :  7\n",
      "Episode :  790  Total Rewards :  8\n",
      "Episode :  791  Total Rewards :  7\n"
     ]
    },
    {
     "name": "stdout",
     "output_type": "stream",
     "text": [
      "Episode :  792  Total Rewards :  5\n",
      "Episode :  793  Total Rewards :  7\n",
      "Episode :  794  Total Rewards :  7\n",
      "Episode :  795  Total Rewards :  8\n",
      "Episode :  796  Total Rewards :  8\n",
      "Episode :  797  Total Rewards :  8\n",
      "Episode :  798  Total Rewards :  8\n",
      "Episode :  799  Total Rewards :  8\n",
      "Episode :  800  Total Rewards :  8\n",
      "Episode :  801  Total Rewards :  7\n",
      "Episode :  802  Total Rewards :  8\n",
      "Episode :  803  Total Rewards :  8\n",
      "Episode :  804  Total Rewards :  8\n",
      "Episode :  805  Total Rewards :  7\n",
      "Episode :  806  Total Rewards :  7\n",
      "Episode :  807  Total Rewards :  7\n",
      "Episode :  808  Total Rewards :  7\n",
      "Episode :  809  Total Rewards :  7\n",
      "Episode :  810  Total Rewards :  7\n",
      "Episode :  811  Total Rewards :  8\n",
      "Episode :  812  Total Rewards :  8\n",
      "Episode :  813  Total Rewards :  7\n",
      "Episode :  814  Total Rewards :  8\n",
      "Episode :  815  Total Rewards :  7\n",
      "Episode :  816  Total Rewards :  8\n",
      "Episode :  817  Total Rewards :  8\n",
      "Episode :  818  Total Rewards :  8\n",
      "Episode :  819  Total Rewards :  8\n",
      "Episode :  820  Total Rewards :  7\n",
      "Episode :  821  Total Rewards :  7\n",
      "Episode :  822  Total Rewards :  8\n",
      "Episode :  823  Total Rewards :  8\n",
      "Episode :  824  Total Rewards :  8\n",
      "Episode :  825  Total Rewards :  7\n",
      "Episode :  826  Total Rewards :  8\n",
      "Episode :  827  Total Rewards :  8\n",
      "Episode :  828  Total Rewards :  7\n",
      "Episode :  829  Total Rewards :  7\n",
      "Episode :  830  Total Rewards :  8\n",
      "Episode :  831  Total Rewards :  8\n",
      "Episode :  832  Total Rewards :  5\n",
      "Episode :  833  Total Rewards :  7\n",
      "Episode :  834  Total Rewards :  7\n",
      "Episode :  835  Total Rewards :  8\n",
      "Episode :  836  Total Rewards :  5\n",
      "Episode :  837  Total Rewards :  8\n",
      "Episode :  838  Total Rewards :  8\n",
      "Episode :  839  Total Rewards :  5\n",
      "Episode :  840  Total Rewards :  8\n",
      "Episode :  841  Total Rewards :  8\n",
      "Episode :  842  Total Rewards :  7\n",
      "Episode :  843  Total Rewards :  7\n",
      "Episode :  844  Total Rewards :  8\n",
      "Episode :  845  Total Rewards :  8\n",
      "Episode :  846  Total Rewards :  8\n",
      "Episode :  847  Total Rewards :  8\n",
      "Episode :  848  Total Rewards :  8\n",
      "Episode :  849  Total Rewards :  8\n",
      "Episode :  850  Total Rewards :  7\n",
      "Episode :  851  Total Rewards :  7\n",
      "Episode :  852  Total Rewards :  8\n",
      "Episode :  853  Total Rewards :  8\n",
      "Episode :  854  Total Rewards :  8\n",
      "Episode :  855  Total Rewards :  7\n",
      "Episode :  856  Total Rewards :  7\n",
      "Episode :  857  Total Rewards :  7\n",
      "Episode :  858  Total Rewards :  8\n",
      "Episode :  859  Total Rewards :  5\n",
      "Episode :  860  Total Rewards :  8\n",
      "Episode :  861  Total Rewards :  8\n",
      "Episode :  862  Total Rewards :  5\n",
      "Episode :  863  Total Rewards :  8\n",
      "Episode :  864  Total Rewards :  7\n",
      "Episode :  865  Total Rewards :  8\n",
      "Episode :  866  Total Rewards :  5\n",
      "Episode :  867  Total Rewards :  8\n",
      "Episode :  868  Total Rewards :  8\n",
      "Episode :  869  Total Rewards :  8\n",
      "Episode :  870  Total Rewards :  7\n",
      "Episode :  871  Total Rewards :  7\n",
      "Episode :  872  Total Rewards :  8\n",
      "Episode :  873  Total Rewards :  7\n",
      "Episode :  874  Total Rewards :  7\n",
      "Episode :  875  Total Rewards :  7\n",
      "Episode :  876  Total Rewards :  7\n",
      "Episode :  877  Total Rewards :  8\n",
      "Episode :  878  Total Rewards :  8\n",
      "Episode :  879  Total Rewards :  7\n",
      "Episode :  880  Total Rewards :  8\n",
      "Episode :  881  Total Rewards :  8\n",
      "Episode :  882  Total Rewards :  8\n",
      "Episode :  883  Total Rewards :  8\n",
      "Episode :  884  Total Rewards :  7\n",
      "Episode :  885  Total Rewards :  8\n",
      "Episode :  886  Total Rewards :  8\n",
      "Episode :  887  Total Rewards :  8\n",
      "Episode :  888  Total Rewards :  8\n",
      "Episode :  889  Total Rewards :  7\n",
      "Episode :  890  Total Rewards :  8\n",
      "Episode :  891  Total Rewards :  7\n",
      "Episode :  892  Total Rewards :  8\n",
      "Episode :  893  Total Rewards :  8\n",
      "Episode :  894  Total Rewards :  8\n",
      "Episode :  895  Total Rewards :  7\n",
      "Episode :  896  Total Rewards :  8\n",
      "Episode :  897  Total Rewards :  5\n",
      "Episode :  898  Total Rewards :  7\n",
      "Episode :  899  Total Rewards :  8\n",
      "Episode :  900  Total Rewards :  7\n",
      "Episode :  901  Total Rewards :  8\n",
      "Episode :  902  Total Rewards :  5\n",
      "Episode :  903  Total Rewards :  7\n",
      "Episode :  904  Total Rewards :  7\n",
      "Episode :  905  Total Rewards :  7\n",
      "Episode :  906  Total Rewards :  8\n",
      "Episode :  907  Total Rewards :  5\n",
      "Episode :  908  Total Rewards :  8\n",
      "Episode :  909  Total Rewards :  8\n",
      "Episode :  910  Total Rewards :  5\n",
      "Episode :  911  Total Rewards :  8\n",
      "Episode :  912  Total Rewards :  7\n",
      "Episode :  913  Total Rewards :  8\n",
      "Episode :  914  Total Rewards :  8\n",
      "Episode :  915  Total Rewards :  8\n",
      "Episode :  916  Total Rewards :  8\n",
      "Episode :  917  Total Rewards :  8\n",
      "Episode :  918  Total Rewards :  8\n",
      "Episode :  919  Total Rewards :  7\n",
      "Episode :  920  Total Rewards :  8\n",
      "Episode :  921  Total Rewards :  7\n",
      "Episode :  922  Total Rewards :  8\n",
      "Episode :  923  Total Rewards :  8\n",
      "Episode :  924  Total Rewards :  8\n",
      "Episode :  925  Total Rewards :  7\n",
      "Episode :  926  Total Rewards :  7\n",
      "Episode :  927  Total Rewards :  5\n",
      "Episode :  928  Total Rewards :  5\n",
      "Episode :  929  Total Rewards :  7\n",
      "Episode :  930  Total Rewards :  8\n",
      "Episode :  931  Total Rewards :  8\n",
      "Episode :  932  Total Rewards :  7\n",
      "Episode :  933  Total Rewards :  8\n",
      "Episode :  934  Total Rewards :  8\n",
      "Episode :  935  Total Rewards :  7\n",
      "Episode :  936  Total Rewards :  7\n",
      "Episode :  937  Total Rewards :  7\n",
      "Episode :  938  Total Rewards :  5\n",
      "Episode :  939  Total Rewards :  8\n",
      "Episode :  940  Total Rewards :  8\n",
      "Episode :  941  Total Rewards :  7\n",
      "Episode :  942  Total Rewards :  8\n",
      "Episode :  943  Total Rewards :  7\n",
      "Episode :  944  Total Rewards :  8\n",
      "Episode :  945  Total Rewards :  7\n",
      "Episode :  946  Total Rewards :  7\n",
      "Episode :  947  Total Rewards :  8\n",
      "Episode :  948  Total Rewards :  7\n",
      "Episode :  949  Total Rewards :  8\n",
      "Episode :  950  Total Rewards :  7\n",
      "Episode :  951  Total Rewards :  7\n",
      "Episode :  952  Total Rewards :  7\n",
      "Episode :  953  Total Rewards :  8\n",
      "Episode :  954  Total Rewards :  8\n",
      "Episode :  955  Total Rewards :  8\n",
      "Episode :  956  Total Rewards :  8\n",
      "Episode :  957  Total Rewards :  8\n",
      "Episode :  958  Total Rewards :  8\n",
      "Episode :  959  Total Rewards :  8\n",
      "Episode :  960  Total Rewards :  8\n",
      "Episode :  961  Total Rewards :  8\n",
      "Episode :  962  Total Rewards :  7\n",
      "Episode :  963  Total Rewards :  8\n",
      "Episode :  964  Total Rewards :  7\n",
      "Episode :  965  Total Rewards :  5\n",
      "Episode :  966  Total Rewards :  8\n",
      "Episode :  967  Total Rewards :  7\n",
      "Episode :  968  Total Rewards :  8\n",
      "Episode :  969  Total Rewards :  8\n",
      "Episode :  970  Total Rewards :  8\n",
      "Episode :  971  Total Rewards :  7\n",
      "Episode :  972  Total Rewards :  7\n",
      "Episode :  973  Total Rewards :  8\n",
      "Episode :  974  Total Rewards :  8\n",
      "Episode :  975  Total Rewards :  8\n",
      "Episode :  976  Total Rewards :  8\n",
      "Episode :  977  Total Rewards :  8\n",
      "Episode :  978  Total Rewards :  7\n",
      "Episode :  979  Total Rewards :  7\n",
      "Episode :  980  Total Rewards :  7\n",
      "Episode :  981  Total Rewards :  8\n",
      "Episode :  982  Total Rewards :  8\n",
      "Episode :  983  Total Rewards :  8\n",
      "Episode :  984  Total Rewards :  8\n",
      "Episode :  985  Total Rewards :  7\n",
      "Episode :  986  Total Rewards :  7\n",
      "Episode :  987  Total Rewards :  7\n",
      "Episode :  988  Total Rewards :  8\n",
      "Episode :  989  Total Rewards :  8\n",
      "Episode :  990  Total Rewards :  3\n",
      "Episode :  991  Total Rewards :  8\n",
      "Episode :  992  Total Rewards :  8\n",
      "Episode :  993  Total Rewards :  8\n",
      "Episode :  994  Total Rewards :  8\n",
      "Episode :  995  Total Rewards :  8\n",
      "Episode :  996  Total Rewards :  7\n",
      "Episode :  997  Total Rewards :  8\n",
      "Episode :  998  Total Rewards :  8\n",
      "Episode :  999  Total Rewards :  8\n"
     ]
    }
   ],
   "source": [
    "env = GridEnvironment() # note: we do not normalize\n",
    "agent = QLearningAgent(env)\n",
    "episodes = 1000 # number of games we want the agent to play\n",
    "delta_epsilon = agent.epsilon/episodes\n",
    "\n",
    "total_rewards = []\n",
    "epsilons = [agent.epsilon]\n",
    "\n",
    "# Training Process (Task 3) (20 points)\n",
    "\n",
    "for episode in range(episodes):\n",
    "    state = env.reset()\n",
    "    \n",
    "    total_rewards_per_episode=0\n",
    "    \n",
    "    done=False\n",
    "    \n",
    "    while not done:\n",
    "        action=agent.step(state)\n",
    "        state_copy=state.copy()\n",
    "        next_state, reward, done, info = env.step(action)\n",
    "        agent.update(state_copy, action, reward, next_state)\n",
    "        \n",
    "        state=next_state\n",
    "        total_rewards_per_episode+=reward\n",
    "        \n",
    "    total_rewards.append(total_rewards_per_episode)\n",
    "    if(agent.epsilon>0.1):\n",
    "        agent.set_epsilon(0.99*agent.epsilon)\n",
    "    else:\n",
    "        agent.set_epsilon(0.1)\n",
    "    epsilons.append(agent.epsilon)\n",
    "    print(\"Episode : \",episode,\" Total Rewards : \",total_rewards_per_episode)\n",
    "        \n",
    "    "
   ]
  },
  {
   "cell_type": "markdown",
   "metadata": {
    "colab_type": "text",
    "id": "AHDJV4ZAE2l8"
   },
   "source": [
    "#### Visualize $\\epsilon$\n",
    "Plot our value of $\\epsilon$ over each episode"
   ]
  },
  {
   "cell_type": "code",
   "execution_count": 10,
   "metadata": {
    "colab": {},
    "colab_type": "code",
    "id": "q137fw4je8ln"
   },
   "outputs": [
    {
     "data": {
      "text/plain": [
       "[<matplotlib.lines.Line2D at 0x1168fe550>]"
      ]
     },
     "execution_count": 10,
     "metadata": {},
     "output_type": "execute_result"
    },
    {
     "data": {
      "image/png": "[encoded data removed]",
      "text/plain": [
       "<Figure size 432x288 with 1 Axes>"
      ]
     },
     "metadata": {
      "needs_background": "light"
     },
     "output_type": "display_data"
    }
   ],
   "source": [
    "plt.xlabel('Episode')\n",
    "plt.ylabel('$\\epsilon$')\n",
    "plt.plot(epsilons)"
   ]
  },
  {
   "cell_type": "markdown",
   "metadata": {
    "colab_type": "text",
    "id": "30Yr74K2e8lr"
   },
   "source": [
    "#### Visualize Rewards\n",
    "Plot total_rewards per episode.  We apply a rolling mean of window $10$ to visualize easier."
   ]
  },
  {
   "cell_type": "code",
   "execution_count": 11,
   "metadata": {
    "colab": {},
    "colab_type": "code",
    "id": "Raqojkywe8ls"
   },
   "outputs": [
    {
     "data": {
      "text/plain": [
       "[<matplotlib.lines.Line2D at 0x116488748>]"
      ]
     },
     "execution_count": 11,
     "metadata": {},
     "output_type": "execute_result"
    },
    {
     "data": {
      "image/png": "[encoded data removed]",
      "text/plain": [
       "<Figure size 432x288 with 1 Axes>"
      ]
     },
     "metadata": {
      "needs_background": "light"
     },
     "output_type": "display_data"
    }
   ],
   "source": [
    "window = 10\n",
    "plt.xlabel('Episode')\n",
    "plt.ylabel('Total Reward (SMA 10)')\n",
    "plt.plot([np.mean(total_rewards[tr:tr+window]) for tr in range(window, len(total_rewards))])"
   ]
  },
  {
   "cell_type": "code",
   "execution_count": 12,
   "metadata": {
    "colab": {},
    "colab_type": "code",
    "id": "M6wai0MeiGVG"
   },
   "outputs": [
    {
     "data": {
      "image/png": "[encoded data removed]",
      "text/plain": [
       "<Figure size 432x288 with 1 Axes>"
      ]
     },
     "metadata": {
      "needs_background": "light"
     },
     "output_type": "display_data"
    },
    {
     "data": {
      "image/png": "[encoded data removed]",
      "text/plain": [
       "<Figure size 432x288 with 1 Axes>"
      ]
     },
     "metadata": {
      "needs_background": "light"
     },
     "output_type": "display_data"
    },
    {
     "data": {
      "image/png": "[encoded data removed]",
      "text/plain": [
       "<Figure size 432x288 with 1 Axes>"
      ]
     },
     "metadata": {
      "needs_background": "light"
     },
     "output_type": "display_data"
    },
    {
     "data": {
      "image/png": "[encoded data removed]",
      "text/plain": [
       "<Figure size 432x288 with 1 Axes>"
      ]
     },
     "metadata": {
      "needs_background": "light"
     },
     "output_type": "display_data"
    },
    {
     "data": {
      "image/png": "[encoded data removed]",
      "text/plain": [
       "<Figure size 432x288 with 1 Axes>"
      ]
     },
     "metadata": {
      "needs_background": "light"
     },
     "output_type": "display_data"
    },
    {
     "data": {
      "image/png": "[encoded data removed]",
      "text/plain": [
       "<Figure size 432x288 with 1 Axes>"
      ]
     },
     "metadata": {
      "needs_background": "light"
     },
     "output_type": "display_data"
    },
    {
     "data": {
      "image/png": "[encoded data removed]",
      "text/plain": [
       "<Figure size 432x288 with 1 Axes>"
      ]
     },
     "metadata": {
      "needs_background": "light"
     },
     "output_type": "display_data"
    },
    {
     "data": {
      "image/png": "[encoded data removed]",
      "text/plain": [
       "<Figure size 432x288 with 1 Axes>"
      ]
     },
     "metadata": {
      "needs_background": "light"
     },
     "output_type": "display_data"
    },
    {
     "data": {
      "image/png": "[encoded data removed]",
      "text/plain": [
       "<Figure size 432x288 with 1 Axes>"
      ]
     },
     "metadata": {
      "needs_background": "light"
     },
     "output_type": "display_data"
    }
   ],
   "source": [
    "env = GridEnvironment()\n",
    "\n",
    "obs = env.reset()\n",
    "done = False\n",
    "agent.epsilon = 0\n",
    "env.render()\n",
    "plt.show()\n",
    "\n",
    "while not done:\n",
    "    action = agent.step(obs)\n",
    "    obs, reward, done, info = env.step(action)\n",
    "    env.render()\n",
    "    plt.show()"
   ]
  },
  {
   "cell_type": "code",
   "execution_count": null,
   "metadata": {},
   "outputs": [],
   "source": []
  }
 ],
 "metadata": {
  "colab": {
   "collapsed_sections": [
    "Bc3VOQuJF1el",
    "JCKzZh7u0zFJ"
   ],
   "name": "Copy of Template_Code",
   "provenance": []
  },
  "kernelspec": {
   "display_name": "Python 3",
   "language": "python",
   "name": "python3"
  },
  "language_info": {
   "codemirror_mode": {
    "name": "ipython",
    "version": 3
   },
   "file_extension": ".py",
   "mimetype": "text/x-python",
   "name": "python",
   "nbconvert_exporter": "python",
   "pygments_lexer": "ipython3",
   "version": "3.7.3"
  }
 },
 "nbformat": 4,
 "nbformat_minor": 1
}
